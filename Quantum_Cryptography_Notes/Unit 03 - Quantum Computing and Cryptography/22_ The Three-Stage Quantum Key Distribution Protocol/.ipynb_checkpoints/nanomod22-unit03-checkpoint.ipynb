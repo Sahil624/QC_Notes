{
 "cells": [
  {
   "cell_type": "markdown",
   "metadata": {
    "cell_details": {
     "cell_ID": "m22-LearningOutcomes",
     "cell_alternates": [],
     "cell_concepts": [
      "Learning Outcomes"
     ],
     "cell_estimated_time": "1",
     "cell_interactive": "false",
     "cell_outcomes": [],
     "cell_prereqs": [],
     "cell_title": "Learning Outcomes",
     "cell_type": [
      "text"
     ],
     "module_outcomes": [
      "Students will understand the concept of double lock cryptography.",
      "Students will know the working of three-stage quantum key distribution protocol.",
      "Students will be able to apply the concepts of orthogonality of basis, measurement and indistinguishability of non-orthogonal states.",
      "Students will apply the principle of quantum entanglement and Bell's inequality to construct a quantum key distribution protocol.",
      "Students will be able to use Bell's inequality to check for eavesdropping."
     ],
     "module_prereqs": [
      "Linear Algebra",
      "Complex Numbers",
      "Introduction to Programming",
      "Python Basics",
      "Complex Vector Spaces"
     ],
     "module_title": [
      "The Three-Stage Quantum Key Distribution Protocol & Entanglement based QKD"
     ]
    },
    "slideshow": {
     "slide_type": "slide"
    }
   },
   "source": [
    "# 22. The Three-Stage Quantum Key Distribution Protocol & Entanglement based QKD\n",
    "\n",
    "### This is nanomodule 22 - unit 3\n",
    "\n",
    "\n",
    "<b>Learning Outcomes: </b>\n",
    "\n",
    "Upon completion of this lesson:\n",
    "\n",
    "22.1 Students will understand the concept of double lock cryptography.\n",
    "\n",
    "22.2 Students will know the working of three-stage quantum key distribution protocol.\n",
    "\n",
    "22.3 Students will be able to apply the concepts of orthogonality of basis, measurement and indistinguishability of non-orthogonal states.\n",
    "\n",
    "22.4 Students will apply the principle of quantum entanglement and Bell's inequality to construct a quantum key distribution protocol.\n",
    "\n",
    "22.5 Students will be able to use Bell's inequality to check for eavesdropping.\n",
    "\n",
    "22.6 Students will be able to simulate Key distribution of three-stage and E91 protocols.\n"
   ]
  },
  {
   "cell_type": "markdown",
   "metadata": {
    "cell_details": {
     "cell_ID": "m22-Background",
     "cell_alternates": [],
     "cell_concepts": [
      "3stage background"
     ],
     "cell_estimated_time": "1",
     "cell_interactive": "false",
     "cell_outcomes": [],
     "cell_prereqs": [],
     "cell_title": "Background",
     "cell_type": [
      "text"
     ],
     "module_outcomes": [
      "Students will understand the concept of double lock cryptography.",
      "Students will know the working of three-stage quantum key distribution protocol.",
      "Students will be able to apply the concepts of orthogonality of basis, measurement and indistinguishability of non-orthogonal states.",
      "Students will apply the principle of quantum entanglement and Bell's inequality to construct a quantum key distribution protocol.",
      "Students will be able to use Bell's inequality to check for eavesdropping."
     ],
     "module_prereqs": [
      "Linear Algebra",
      "Complex Numbers",
      "Introduction to Programming",
      "Python Basics",
      "Complex Vector Spaces"
     ],
     "module_title": [
      "The Three-Stage Quantum Key Distribution Protocol & Entanglement based QKD"
     ]
    },
    "slideshow": {
     "slide_type": "slide"
    }
   },
   "source": [
    "## 22.1 Background\n",
    "\n",
    "So far we’ve seen protocols that use non-orthogonal basis and states to exchange keys. However, there are other ways of achieving the same goal. The three-stage protocol is one of them.\n",
    "\n",
    "The Three-stage protocol is based on one of the oldest ideas in secure exchange of messages and only assumes the availability of an authenticated channel. \n",
    "\n",
    "Consider Alice wants to secretly send a message to Bob. Both Alice and Bob have locks that are unique and only the other person recognizes as belonging to Alice/Bob. Now the secret message can be put into a strong box and sent to Bob using double lock cryptography. The process is straightforward and shown below. \n",
    "\n",
    "![nanomod22-fig1.png](images/nanomod22-fig1.png)\n",
    "\n",
    "*Note: There was no key exchange necessary in the above protocol.*"
   ]
  },
  {
   "cell_type": "markdown",
   "metadata": {
    "cell_details": {
     "cell_ID": "m22-3stageQkd",
     "cell_alternates": [],
     "cell_concepts": [
      "3 stage QKD protocol"
     ],
     "cell_estimated_time": "1",
     "cell_interactive": "false",
     "cell_outcomes": [],
     "cell_prereqs": [
      "m22-Background"
     ],
     "cell_title": "the 3-Stage QKD Protocol",
     "cell_type": [
      "text"
     ],
     "module_outcomes": [
      "Students will understand the concept of double lock cryptography.",
      "Students will know the working of three-stage quantum key distribution protocol.",
      "Students will be able to apply the concepts of orthogonality of basis, measurement and indistinguishability of non-orthogonal states.",
      "Students will apply the principle of quantum entanglement and Bell's inequality to construct a quantum key distribution protocol.",
      "Students will be able to use Bell's inequality to check for eavesdropping."
     ],
     "module_prereqs": [
      "Linear Algebra",
      "Complex Numbers",
      "Introduction to Programming",
      "Python Basics",
      "Complex Vector Spaces"
     ],
     "module_title": [
      "The Three-Stage Quantum Key Distribution Protocol & Entanglement based QKD"
     ]
    },
    "slideshow": {
     "slide_type": "slide"
    }
   },
   "source": [
    "## The 3-Stage QKD Protocol\n",
    "\n",
    "The three stage protocol is a simple, yet powerful, quantum analogy of the double lock cryptography.\n",
    "\n",
    "Assume Alice wants to send an arbitrary state $\\rvert+\\rangle$ to Bob.\n",
    "\n",
    "Both Alice and Bob are connected via an authenticated channel and have secret rotation transformations $U_a$ and $U_b$ such that $U_a U_b$ = $U_b U_a$\n",
    "\n",
    "$U_\\theta$ may be of the form,\n",
    "\n",
    "$U_\\theta =\\begin{bmatrix}cos \\theta & -sin \\theta \\\\sin\\theta& cos\\theta& \\end{bmatrix}$ \n"
   ]
  },
  {
   "cell_type": "markdown",
   "metadata": {
    "cell_details": {
     "cell_ID": "m22-3stageQkd2",
     "cell_alternates": [],
     "cell_concepts": [
      "3 Stage Qkd Protocol"
     ],
     "cell_estimated_time": "1",
     "cell_interactive": "false",
     "cell_outcomes": [],
     "cell_prereqs": [
      "m22-Background",
      "m22-3stageQkd"
     ],
     "cell_title": "The 3-Stage QKD protocol",
     "cell_type": [
      "text"
     ],
     "module_outcomes": [
      "Students will understand the concept of double lock cryptography.",
      "Students will know the working of three-stage quantum key distribution protocol.",
      "Students will be able to apply the concepts of orthogonality of basis, measurement and indistinguishability of non-orthogonal states.",
      "Students will apply the principle of quantum entanglement and Bell's inequality to construct a quantum key distribution protocol.",
      "Students will be able to use Bell's inequality to check for eavesdropping."
     ],
     "module_prereqs": [
      "Linear Algebra",
      "Complex Numbers",
      "Introduction to Programming",
      "Python Basics",
      "Complex Vector Spaces"
     ],
     "module_title": [
      "The Three-Stage Quantum Key Distribution Protocol & Entanglement based QKD"
     ]
    },
    "slideshow": {
     "slide_type": "slide"
    }
   },
   "source": [
    "The protocol proceeds as follows:\n",
    "\n",
    "1. Alice applies the secret transformation $U_a$ to $\\rvert+\\rangle$ and then sends Bob $U_a(\\rvert+\\rangle)$\n",
    "\n",
    "2. Bob applies $U_b$ and sends to Alice $U_b U_a(\\rvert+\\rangle)$\n",
    "\n",
    "3. Alice applies $U_a^\\dagger$ and returns $U_b(\\rvert+\\rangle)$ to Bob.\n",
    "\n",
    "4. Bob applies $U_b^\\dagger$ and retrieves $\\rvert+\\rangle$. \n",
    "\n",
    "State $\\rvert+\\rangle$ may be our encryption key or data or output of a quantum algorithm.\n",
    "\n",
    "\n",
    "\n"
   ]
  },
  {
   "cell_type": "markdown",
   "metadata": {
    "cell_details": {
     "cell_ID": "m22-3stageQkdFlow",
     "cell_alternates": [],
     "cell_concepts": [
      "3Stage Protocol Flow"
     ],
     "cell_estimated_time": "1",
     "cell_interactive": "false",
     "cell_outcomes": [],
     "cell_prereqs": [
      "m22-Background",
      "m22-3stageQkd",
      "m22-3stageQkd2"
     ],
     "cell_title": "The Protocol Flow",
     "cell_type": [
      "text"
     ],
     "module_outcomes": [
      "Students will understand the concept of double lock cryptography.",
      "Students will know the working of three-stage quantum key distribution protocol.",
      "Students will be able to apply the concepts of orthogonality of basis, measurement and indistinguishability of non-orthogonal states.",
      "Students will apply the principle of quantum entanglement and Bell's inequality to construct a quantum key distribution protocol.",
      "Students will be able to use Bell's inequality to check for eavesdropping."
     ],
     "module_prereqs": [
      "Linear Algebra",
      "Complex Numbers",
      "Introduction to Programming",
      "Python Basics",
      "Complex Vector Spaces"
     ],
     "module_title": [
      "The Three-Stage Quantum Key Distribution Protocol & Entanglement based QKD"
     ]
    },
    "slideshow": {
     "slide_type": "slide"
    }
   },
   "source": [
    "## The Protocol Flow\n",
    "\n",
    "![nanomod22-fig2.png](images/nanomod22-fig2.png)\n",
    "\n",
    "Under single qubit implementation the protocol provides perfect secrecy. The protocol is also resistant to multi-photon implementations. \n"
   ]
  },
  {
   "cell_type": "markdown",
   "metadata": {
    "cell_details": {
     "cell_ID": "m22-3Stage-Simulator-heading",
     "cell_alternates": [],
     "cell_concepts": [
      "The 3Stage protocol simulator"
     ],
     "cell_estimated_time": "1",
     "cell_interactive": "false",
     "cell_outcomes": [],
     "cell_prereqs": [],
     "cell_title": "The 3Stage Protocol Simulator",
     "cell_type": [
      "text"
     ],
     "module_outcomes": [
      "Students will understand the concept of double lock cryptography.",
      "Students will know the working of three-stage quantum key distribution protocol.",
      "Students will be able to apply the concepts of orthogonality of basis, measurement and indistinguishability of non-orthogonal states.",
      "Students will apply the principle of quantum entanglement and Bell's inequality to construct a quantum key distribution protocol.",
      "Students will be able to use Bell's inequality to check for eavesdropping."
     ],
     "module_prereqs": [
      "Linear Algebra",
      "Complex Numbers",
      "Introduction to Programming",
      "Python Basics",
      "Complex Vector Spaces"
     ],
     "module_title": [
      "The Three-Stage Quantum Key Distribution Protocol & Entanglement based QKD"
     ]
    },
    "slideshow": {
     "slide_type": "slide"
    }
   },
   "source": [
    "***\n",
    "***\n",
    "# 3-Stage QKD Simulator (Interactive)\n",
    "\n",
    "**Execute the program and follow the prompt below**"
   ]
  },
  {
   "cell_type": "code",
   "execution_count": null,
   "metadata": {
    "cell_details": {
     "cell_ID": "m22-3Stage-Simulator",
     "cell_alternates": [],
     "cell_concepts": [
      "The 3Stage protocol simulator"
     ],
     "cell_estimated_time": "1",
     "cell_interactive": "false",
     "cell_outcomes": [],
     "cell_prereqs": [
      "m22-Background",
      "m22-3stageQkd",
      "m22-3stageQkd2",
      "m22-3stageQkdFlow"
     ],
     "cell_title": "The 3Stage Protocol Simulator",
     "cell_type": [
      "text"
     ],
     "module_outcomes": [
      "Students will understand the concept of double lock cryptography.",
      "Students will know the working of three-stage quantum key distribution protocol.",
      "Students will be able to apply the concepts of orthogonality of basis, measurement and indistinguishability of non-orthogonal states.",
      "Students will apply the principle of quantum entanglement and Bell's inequality to construct a quantum key distribution protocol.",
      "Students will be able to use Bell's inequality to check for eavesdropping."
     ],
     "module_prereqs": [
      "Linear Algebra",
      "Complex Numbers",
      "Introduction to Programming",
      "Python Basics",
      "Complex Vector Spaces"
     ],
     "module_title": [
      "The Three-Stage Quantum Key Distribution Protocol & Entanglement based QKD"
     ]
    }
   },
   "outputs": [
    {
     "name": "stdout",
     "output_type": "stream",
     "text": [
      "\n",
      "\n",
      "-----------------------------------------------------\n",
      "\n",
      "\n"
     ]
    }
   ],
   "source": [
    "import  cmath, numpy, math\n",
    "\n",
    "\"\"\"\n",
    "Initialize variables taking user input.\n",
    "\"\"\"\n",
    "print(\"\\n\\n-----------------------------------------------------\\n\\n\")\n",
    "while(True):\n",
    "    choice = input(\"Hello, please create a basis; select an option below\\n1. Pre-set Basis \\n2. Custom Basis\\n\")\n",
    "    if (choice == \"1\"):\n",
    "        while(True):\n",
    "            choice2 = input(\"Choose one of the following basis (in degrees)\\n1. {0,90}\\n2. {-45,45}\\n3. {30,120}\")\n",
    "            if (choice2 == \"1\"):\n",
    "                basis = (\"0\",\"90\")\n",
    "                break\n",
    "            if (choice2 == \"2\"):\n",
    "                basis = (\"-45\",\"45\")\n",
    "                break\n",
    "            if (choice2 == \"3\"):\n",
    "                basis = (\"30\",\"120\")\n",
    "                break\n",
    "        break\n",
    "    if (choice == \"2\"):\n",
    "        while(True):\n",
    "            #\"Enter a measurement basis in the format {x, y}, where x and y are in degrees:\"\n",
    "            inall=input(\"Enter a measurement basis in the format {x, y}, where x and y are in degrees:\\n\").strip(\"{}\").replace(\" \",\"\")\n",
    "            in1 = inall.split(\",\")[0]\n",
    "            in2 = inall.split(\",\")[1]\n",
    "            if(float(in1)+90 == float(in2) or float(in2)+90 == float(in1)):\n",
    "                basis = (in1,in2)\n",
    "                break\n",
    "            else:\n",
    "                print(\"Your basis must be 90 degrees apart!\")\n",
    "        break\n",
    "basis1 = basis[0]\n",
    "basis2 = basis[1]\n",
    "basis = (basis1,basis2)\n",
    "while(True):\n",
    "    try:\n",
    "        binary1 = int(input(\"Input a binary string, this will act as the message\\n\"), 2)\n",
    "        break\n",
    "    except ValueError:\n",
    "        print(\"Try Again! String must be in binary format (ex. 10110011)\")\n",
    "print(\"\\n\\n-----------------------------------------------------\\n\\n\")\n",
    "\n",
    "messagetosend = format(binary1, 'b')\n",
    "\n",
    "arot = float(input(\"What is Alices secret rotation (in degrees)\\n\"))%360\n",
    "brot = float(input(\"What is Bob's secret rotation (in degrees)\\n\"))%360\n",
    "arads = math.radians(arot)\n",
    "\n",
    "asecretrot = numpy.array(\n",
    "[[math.cos(arads),-math.sin(arads)],\n",
    "[math.sin(arads),math.cos(arads)]])\n",
    "\n",
    "brads = math.radians(brot)\n",
    "bsecretrot = numpy.array(\n",
    "[[math.cos(brot),-math.sin(brot)],\n",
    "[math.sin(brot),math.cos(brot)]])\n",
    "\n",
    "\n",
    "\"\"\"\n",
    "This function takes in a bit to send and applies the three step protocol to the bit as it is sent back and forth from a hypothetical Alice to Bob.\n",
    "\"\"\"\n",
    "def sendbit(bit):\n",
    "    print(\"Sending bit: \"+bit)\n",
    "    tosend = numpy.array([math.cos(math.radians(float(basis1) + (90 * float(bit)))),math.sin(math.radians(float(basis1) + (90 * float(bit))))])\n",
    "    print(\"Sending \"+ str(tosend.tolist()))\n",
    "    amessage = aliceone(asecretrot, tosend)\n",
    "\n",
    "    print (\"Transmitting qubit: \" + str(amessage.tolist())+ \" to Bob\")\n",
    "    abmessage = bobone(bsecretrot, amessage)\n",
    "    print(\"Transmitting qubit: \"+ str(abmessage.tolist())+\" to Alice\")\n",
    "    bmessage = alicetwo(asecretrot, abmessage)\n",
    "    print(\"Transmitting qubit: \"+ str(bmessage.tolist())+\" to Bob\")\n",
    "    message = bobtwo(bsecretrot,bmessage)\n",
    "    print(\"Recieved qubit is: \"+str(message.tolist()) + \"\\nTherefore, the received bit after measurement is \"+bit)\n",
    "\n",
    "    \n",
    "\"\"\"\n",
    "Alice takes the message qubit and applies her secret rotation.\n",
    "\"\"\"\n",
    "def aliceone(secret,qubit):\n",
    "    print(\"Applying Alice's secret rotation...\")\n",
    "    return  numpy.dot(qubit,secret)\n",
    "\n",
    "\"\"\"\n",
    "Bob recieves the qubit from Alice and applies his secret rotation\n",
    "\"\"\"\n",
    "def bobone(secret, qubit):\n",
    "    print(\"Applying Bob's secret rotation...\")\n",
    "    return numpy.dot(qubit,secret)\n",
    "\"\"\"\n",
    "Alice applies the inverse of her secret rotation so only Bobs rotation is on the qubit.\n",
    "\"\"\"\n",
    "def alicetwo(secret,qubit):\n",
    "    print(\"Applying Alice's inverse secret rotation...\")\n",
    "    return  numpy.dot(qubit,secret.T)\n",
    "\n",
    "\"\"\"\n",
    "Bob applies the inverse of his secret rotation on the qubit.\n",
    "\n",
    "Now Bob has just the plain qubit. \n",
    "\"\"\"\n",
    "def bobtwo(secret,qubit):\n",
    "    print(\"Applying Bob's inverse secret rotation...\")\n",
    "    return  numpy.dot(qubit,secret.T)\n",
    "\n",
    "\n",
    "\n",
    "for c in messagetosend:\n",
    "    sendbit(c)\n",
    "    \n",
    "print(\"Alice's transmitted message was \"+ messagetosend)\n",
    "\n",
    "print(\"Bob's recieved message was \"+ messagetosend)\n"
   ]
  },
  {
   "cell_type": "markdown",
   "metadata": {
    "cell_details": {
     "cell_ID": "m22-ProjectandResearch3Stage",
     "cell_alternates": [],
     "cell_concepts": [
      "Project and further Research Questions"
     ],
     "cell_estimated_time": "1",
     "cell_interactive": "false",
     "cell_outcomes": [],
     "cell_prereqs": [],
     "cell_title": "Project / Further Research Suggestions",
     "cell_type": [
      "text"
     ],
     "module_outcomes": [
      "Students will understand the concept of double lock cryptography.",
      "Students will know the working of three-stage quantum key distribution protocol.",
      "Students will be able to apply the concepts of orthogonality of basis, measurement and indistinguishability of non-orthogonal states.",
      "Students will apply the principle of quantum entanglement and Bell's inequality to construct a quantum key distribution protocol.",
      "Students will be able to use Bell's inequality to check for eavesdropping."
     ],
     "module_prereqs": [
      "Linear Algebra",
      "Complex Numbers",
      "Introduction to Programming",
      "Python Basics",
      "Complex Vector Spaces"
     ],
     "module_title": [
      "The Three-Stage Quantum Key Distribution Protocol & Entanglement based QKD"
     ]
    },
    "slideshow": {
     "slide_type": "slide"
    }
   },
   "source": [
    "***\n",
    "***\n",
    "## Project/Further Research Suggestions\n",
    "\n",
    "1. Can the three stage protocol be used to transmit messages directly instead of an encryption key? Discuss what could go wrong (if anything) from two perspectives:\n",
    "\n",
    "    a. Can Eve read some of the message bits?\n",
    "    \n",
    "    b. If Eve attempts to eavesdrop, can Alice and Bob detect it? How?\n",
    "<br><br>\n",
    "2. Design a circuit using quantum gates to implement the three-stage protocol. Which gates would you need to use?\n",
    "<br><br>\n",
    "3. Suppose that you decide to keep the rotation transformation constant for all the qubits as opposed to choosing a different $U_a$ and $U_b$ for every qubit. What security implications does that have? Consider the case when we are using it to transmit an encryption key.\n",
    "<br><br>\n",
    "4. If we consider a set of rotation transformations $U_A=\\{U_{a_1}, U_{a_2}, \\ldots, U_{a_l}\\}$. Alice randomly and uniformly chooses one of the transformations for every qubit that she sends. Same applies for Bob with $U_B$. What is the minimum number of unique rotation transformations one should use to construct a secure key exchange protocol using three-stage?"
   ]
  },
  {
   "cell_type": "markdown",
   "metadata": {
    "cell_details": {
     "cell_ID": "m22-Introduction-EntanglementQKD",
     "cell_alternates": [],
     "cell_concepts": [
      "Introduction to Entanglement based QKD"
     ],
     "cell_estimated_time": "1",
     "cell_interactive": "false",
     "cell_outcomes": [],
     "cell_prereqs": [],
     "cell_title": "Introduction",
     "cell_type": [
      "text"
     ],
     "module_outcomes": [
      "Students will understand the concept of double lock cryptography.",
      "Students will know the working of three-stage quantum key distribution protocol.",
      "Students will be able to apply the concepts of orthogonality of basis, measurement and indistinguishability of non-orthogonal states.",
      "Students will apply the principle of quantum entanglement and Bell's inequality to construct a quantum key distribution protocol.",
      "Students will be able to use Bell's inequality to check for eavesdropping."
     ],
     "module_prereqs": [
      "Linear Algebra",
      "Complex Numbers",
      "Introduction to Programming",
      "Python Basics",
      "Complex Vector Spaces"
     ],
     "module_title": [
      "The Three-Stage Quantum Key Distribution Protocol & Entanglement based QKD"
     ]
    }
   },
   "source": [
    "## 22.2 Introduction\n",
    "\n",
    "Another interesting turn in the field of quantum cryptography was the development of QKD schemes based on quantum \n",
    "entanglement. In fact, quantum entanglement now forms the basis of new types of schemes that are coming up called\n",
    "measurement devices independent QKD.\n",
    "\n",
    "Before we describe Ekert protocol (popularly called E91), the first QKD protocol using quantum entanglement,\n",
    "we will discuss a simpler version of the protocol."
   ]
  },
  {
   "cell_type": "markdown",
   "metadata": {
    "cell_details": {
     "cell_ID": "m22-EPRbasedQkd",
     "cell_alternates": [],
     "cell_concepts": [
      "EPR based QKD Protocol"
     ],
     "cell_estimated_time": "1",
     "cell_interactive": "false",
     "cell_outcomes": [],
     "cell_prereqs": [
      "m22-Introduction-EntanglementQKD"
     ],
     "cell_title": "EPR based QKD Protocol",
     "cell_type": [
      "text"
     ],
     "module_outcomes": [
      "Students will understand the concept of double lock cryptography.",
      "Students will know the working of three-stage quantum key distribution protocol.",
      "Students will be able to apply the concepts of orthogonality of basis, measurement and indistinguishability of non-orthogonal states.",
      "Students will apply the principle of quantum entanglement and Bell's inequality to construct a quantum key distribution protocol.",
      "Students will be able to use Bell's inequality to check for eavesdropping."
     ],
     "module_prereqs": [
      "Linear Algebra",
      "Complex Numbers",
      "Introduction to Programming",
      "Python Basics",
      "Complex Vector Spaces"
     ],
     "module_title": [
      "The Three-Stage Quantum Key Distribution Protocol & Entanglement based QKD"
     ]
    }
   },
   "source": [
    "## 22.3 EPR Based QKD Protocol\n",
    "\n",
    "Consider a Bell pair $\\frac{\\rvert00\\rangle + \\rvert11\\rangle}{\\sqrt{2}}$. We can also work with other Bell pairs for example $\\frac{\\rvert01\\rangle + \\rvert10\\rangle}{\\sqrt{2}}$. However, using $\\frac{\\rvert01\\rangle + \\rvert10\\rangle}{\\sqrt{2}}$ will result in Alice and Bob having opposite bit strings. \n",
    "For simplicity, we can assume that these Bell pairs were created sometime in the past and now Alice and Bob each have one qubit out of it. Alternatively, we can assume that Alice and Bob are provided a qubit out of the Bell pair by some third-party source who generates such pairs. \n",
    "\n",
    "Suppose Alice and Bob want to exchange a secret key. When they are ready they will measure their respective qubits. The order of which the measurements take place (Alice measures first or Bob measures first) does not matter. \n",
    "\n",
    "To prevent a third party from obtaining the same random string Alice and Bob must measure their qubits randomly in one of the two random (non-orthogonal) bases . "
   ]
  },
  {
   "cell_type": "markdown",
   "metadata": {
    "cell_details": {
     "cell_ID": "m22-EPRbasedQkdFlow",
     "cell_alternates": [],
     "cell_concepts": [
      "EPR based QKD Protocol"
     ],
     "cell_estimated_time": "1",
     "cell_interactive": "false",
     "cell_outcomes": [],
     "cell_prereqs": [
      "m22-Introduction-EntanglementQKD",
      "m22-EPRbasedQkd"
     ],
     "cell_title": "EPR based QKD Protocol",
     "cell_type": [
      "text"
     ],
     "module_outcomes": [
      "Students will understand the concept of double lock cryptography.",
      "Students will know the working of three-stage quantum key distribution protocol.",
      "Students will be able to apply the concepts of orthogonality of basis, measurement and indistinguishability of non-orthogonal states.",
      "Students will apply the principle of quantum entanglement and Bell's inequality to construct a quantum key distribution protocol.",
      "Students will be able to use Bell's inequality to check for eavesdropping."
     ],
     "module_prereqs": [
      "Linear Algebra",
      "Complex Numbers",
      "Introduction to Programming",
      "Python Basics",
      "Complex Vector Spaces"
     ],
     "module_title": [
      "The Three-Stage Quantum Key Distribution Protocol & Entanglement based QKD"
     ]
    }
   },
   "source": [
    "### The Protocol Flow\n",
    "\n",
    "Assume that the bases are &#10010; and &#x2716; as before.\n",
    "\n",
    "The protocol proceeds shown in the table below. \n",
    "\n",
    "\n",
    "|-|-|-|-|-|        \n",
    "|: --- |:--:|: -- :|:--:|:--:|\n",
    "| ***Alice's Random Bases*** |✚ |✖| ✖ |✚ |✖ |✖ |✚ |✚ |\n",
    "| ***Alice's Observations*** |→  |↖|↖  |↑  |↖ |↗ |↑ |↑  |\n",
    "| ***Bob's Random Bases***   |✖ |✖| ✚ |✚ |✖ |✚ |✖|✚  |\n",
    "| ***Bob's Observations***   |↗ |↖ |↑  |↑  |↖  |→  | ↖|↑|  \n",
    "| ***Bases agree***          |  | Y |  | Y  | Y  |  | |Y |\n",
    "\n",
    "Alice and Bob keep the bits that were measured in the same basis.\n",
    "\n",
    "To detect an eavesdropper or other sources (environment) that may have either caused a qubit to collapse or entanglement to disintegrate, Alice and Bob will publicly compare the values of some of the qubits to look for discrepancies. If any discrepancies are found, assuming an error free channel, Alice and Bob have to throw out the exchanged bits. \n",
    "\n",
    "![nanomod23-fig1.png](images/nanomod23-fig1.png)"
   ]
  },
  {
   "cell_type": "markdown",
   "metadata": {
    "cell_details": {
     "cell_ID": "m22-E91-Protocol",
     "cell_alternates": [],
     "cell_concepts": [
      "E91 Protocol"
     ],
     "cell_estimated_time": "1",
     "cell_interactive": "false",
     "cell_outcomes": [],
     "cell_prereqs": [
      "m22-Introduction-EntanglementQKD",
      "m22-EPRbasedQkd"
     ],
     "cell_title": "E91 Protocol",
     "cell_type": [
      "text"
     ],
     "module_outcomes": [
      "Students will understand the concept of double lock cryptography.",
      "Students will know the working of three-stage quantum key distribution protocol.",
      "Students will be able to apply the concepts of orthogonality of basis, measurement and indistinguishability of non-orthogonal states.",
      "Students will apply the principle of quantum entanglement and Bell's inequality to construct a quantum key distribution protocol.",
      "Students will be able to use Bell's inequality to check for eavesdropping."
     ],
     "module_prereqs": [
      "Linear Algebra",
      "Complex Numbers",
      "Introduction to Programming",
      "Python Basics",
      "Complex Vector Spaces"
     ],
     "module_title": [
      "The Three-Stage Quantum Key Distribution Protocol & Entanglement based QKD"
     ]
    }
   },
   "source": [
    "## 22.4 The E91 Protocol\n",
    "\n",
    "Ekert’s 1991 protocol is almost the same as the EPR protocol from the previous section but differs in two steps. \n",
    "\n",
    "First, the measurement is done in three different bases (instead of just two).\n",
    "\n",
    "Second, the qubits that both parties measure in the same basis are saved as possible keys, the qubits that were measured in different basis are used to detect any eavesdropper, or decoherence of the entangled qubits by checking if they violate Bell's inequality (CHSH game) or not.\n",
    "\n",
    "Of the qubits are independent qubits (not entangled) they will satisfy Bell's inequality. "
   ]
  },
  {
   "cell_type": "markdown",
   "metadata": {
    "cell_details": {
     "cell_ID": "m22-EPRbasedQkdResearchQuestions",
     "cell_alternates": [],
     "cell_concepts": [
      "EPR based QKD Protocol Research Suggestions"
     ],
     "cell_estimated_time": "1",
     "cell_interactive": "false",
     "cell_outcomes": [],
     "cell_prereqs": [],
     "cell_title": "EPR based QKD Protocol Research Suggestions",
     "cell_type": [
      "text"
     ],
     "module_outcomes": [
      "Students will understand the concept of double lock cryptography.",
      "Students will know the working of three-stage quantum key distribution protocol.",
      "Students will be able to apply the concepts of orthogonality of basis, measurement and indistinguishability of non-orthogonal states.",
      "Students will apply the principle of quantum entanglement and Bell's inequality to construct a quantum key distribution protocol.",
      "Students will be able to use Bell's inequality to check for eavesdropping."
     ],
     "module_prereqs": [
      "Linear Algebra",
      "Complex Numbers",
      "Introduction to Programming",
      "Python Basics",
      "Complex Vector Spaces"
     ],
     "module_title": [
      "The Three-Stage Quantum Key Distribution Protocol & Entanglement based QKD"
     ]
    }
   },
   "source": [
    "***\n",
    "***\n",
    "## Project/Research Suggestions\n",
    "\n",
    "1. Modify the protocol such that instead of using Bell pairs it uses other general entangled qubits of the form $\\alpha\\rvert00\\rangle+\\beta\\rvert11\\rangle$. Does it have any advantages or disadvantages over the protocol that was presented?\n",
    "<br><br>\n",
    "2. Discuss the advantages and disadvantages (if any) of entanglement based protocol over BB84 and three-stage protocol.\n",
    "<br><br>\n",
    "3. Can you use entanglement based protocol to directly and securely send messages instead of encryption keys? How would you do it?\n",
    "<br><br>\n",
    "4. Can entangled states such as $a\\rvert00\\rangle+b\\rvert01\\rangle+c\\rvert11\\rangle$ be used for QKD? Why or why not, discuss.\n",
    "***\n",
    "***"
   ]
  },
  {
   "cell_type": "code",
   "execution_count": 1,
   "metadata": {
    "cell_details": {
     "cell_ID": "m22-SimulationExercises",
     "cell_alternates": [],
     "cell_concepts": [
      "EPR based QKD Protocol Research Suggestions"
     ],
     "cell_estimated_time": "1",
     "cell_interactive": "false",
     "cell_outcomes": [],
     "cell_prereqs": [
      "m22-3stageQkdFlow",
      "m22-E91-Protocol"
     ],
     "cell_title": "Simulator Exercises",
     "cell_type": [
      "text"
     ],
     "module_outcomes": [
      "Students will understand the concept of double lock cryptography.",
      "Students will know the working of three-stage quantum key distribution protocol.",
      "Students will be able to apply the concepts of orthogonality of basis, measurement and indistinguishability of non-orthogonal states.",
      "Students will apply the principle of quantum entanglement and Bell's inequality to construct a quantum key distribution protocol.",
      "Students will be able to use Bell's inequality to check for eavesdropping."
     ],
     "module_prereqs": [
      "Linear Algebra",
      "Complex Numbers",
      "Introduction to Programming",
      "Python Basics",
      "Complex Vector Spaces"
     ],
     "module_title": [
      "The Three-Stage Quantum Key Distribution Protocol & Entanglement based QKD"
     ]
    }
   },
   "outputs": [
    {
     "name": "stdout",
     "output_type": "stream",
     "text": [
      "Arrangement Mode E91 Protocol\n",
      "Arrangement Mode E91 Protocol\n",
      "Arrangement Mode E91 Protocol\n",
      "Arrangement Mode E91 Protocol\n",
      "Arrangement Mode E91 Protocol\n",
      "Arrangement Mode E91 Protocol\n",
      "Arrangement Mode E91 Protocol\n",
      "Transmission Mode E91 Protocol\n",
      "7\n",
      "Transmission Mode E91 Protocol\n",
      "8\n"
     ]
    },
    {
     "data": {
      "text/plain": [
       "<__main__.Home at 0x18348444620>"
      ]
     },
     "execution_count": 1,
     "metadata": {},
     "output_type": "execute_result"
    },
    {
     "data": {
      "text/plain": [
       "<Figure size 640x480 with 0 Axes>"
      ]
     },
     "metadata": {},
     "output_type": "display_data"
    }
   ],
   "source": [
    "%matplotlib inline\n",
    "%run SimulatorExercises/src/Home\n",
    "Home()"
   ]
  },
  {
   "cell_type": "markdown",
   "metadata": {
    "cell_details": {
     "cell_ID": "m22-endofModule",
     "cell_alternates": [],
     "cell_concepts": [
      "end of Module"
     ],
     "cell_estimated_time": "1",
     "cell_interactive": "false",
     "cell_outcomes": [],
     "cell_prereqs": [],
     "cell_title": "End of Module",
     "cell_type": [
      "text"
     ],
     "module_outcomes": [
      "Students will understand the concept of double lock cryptography.",
      "Students will know the working of three-stage quantum key distribution protocol.",
      "Students will be able to apply the concepts of orthogonality of basis, measurement and indistinguishability of non-orthogonal states.",
      "Students will apply the principle of quantum entanglement and Bell's inequality to construct a quantum key distribution protocol.",
      "Students will be able to use Bell's inequality to check for eavesdropping."
     ],
     "module_prereqs": [
      "Linear Algebra",
      "Complex Numbers",
      "Introduction to Programming",
      "Python Basics",
      "Complex Vector Spaces"
     ],
     "module_title": [
      "The Three-Stage Quantum Key Distribution Protocol & Entanglement based QKD"
     ]
    }
   },
   "source": [
    "***\n",
    "***\n",
    "## End of Nanomodule 22\n",
    "***\n",
    "***"
   ]
  }
 ],
 "metadata": {
  "celltoolbar": "Slideshow",
  "kernelspec": {
   "display_name": "Python 3 (ipykernel)",
   "language": "python",
   "name": "python3"
  },
  "language_info": {
   "codemirror_mode": {
    "name": "ipython",
    "version": 3
   },
   "file_extension": ".py",
   "mimetype": "text/x-python",
   "name": "python",
   "nbconvert_exporter": "python",
   "pygments_lexer": "ipython3",
   "version": "3.12.2"
  },
  "module_details": {
   "module_concepts": [],
   "module_outcomes": [
    "Students will understand the concept of double lock cryptography.",
    "Students will know the working of three-stage quantum key distribution protocol.",
    "Students will be able to apply the concepts of orthogonality of basis, measurement and indistinguishability of non-orthogonal states.",
    "Students will apply the principle of quantum entanglement and Bell's inequality to construct a quantum key distribution protocol.",
    "Students will be able to use Bell's inequality to check for eavesdropping.",
    "Students will be able to simulate Key distribution of three-stage and E91 protocols."
   ],
   "module_outcomes_mapping": [
    [
     "m22-Background"
    ],
    [
     "m22-3stageQkd",
     "m22-3stageQkd2",
     "m22-3stageQkdFlow"
    ],
    [
     "m22-3Stage-Simulator-heading",
     "m22-3Stage-Simulator"
    ],
    [
     "m22-Introduction-EntanglementQKD",
     "m22-EPRbasedQkd",
     "m22-EPRbasedQkdFlow"
    ],
    [
     "m22-E91-Protocol"
    ],
    [
     "m22-SimulationExercises"
    ]
   ],
   "module_prereqs": [],
   "module_title": [
    "The Three-Stage Quantum Key Distribution Protocol & Entanglement based QKD"
   ]
  }
 },
 "nbformat": 4,
 "nbformat_minor": 4
}
