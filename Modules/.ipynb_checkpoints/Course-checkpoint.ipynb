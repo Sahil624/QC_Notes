{
 "cells": [
  {
   "cell_type": "markdown",
   "id": "58d241ce",
   "metadata": {
    "cell_details": {
     "cell_ID": "m22-Background",
     "cell_alternates": [],
     "cell_concepts": [
      "3stage background"
     ],
     "cell_estimated_time": "1",
     "cell_interactive": "false",
     "cell_outcomes": [],
     "cell_prereqs": [],
     "cell_title": "Background",
     "cell_type": [
      "text"
     ],
     "module_outcomes": [
      "Students will understand the concept of double lock cryptography.",
      "Students will know the working of three-stage quantum key distribution protocol.",
      "Students will be able to apply the concepts of orthogonality of basis, measurement and indistinguishability of non-orthogonal states.",
      "Students will apply the principle of quantum entanglement and Bell's inequality to construct a quantum key distribution protocol.",
      "Students will be able to use Bell's inequality to check for eavesdropping."
     ],
     "module_prereqs": [
      "Linear Algebra",
      "Complex Numbers",
      "Introduction to Programming",
      "Python Basics",
      "Complex Vector Spaces"
     ],
     "module_title": [
      "The Three-Stage Quantum Key Distribution Protocol & Entanglement based QKD"
     ]
    },
    "slideshow": {
     "slide_type": "slide"
    }
   },
   "source": [
    "## 22.1 Background\n",
    "\n",
    "So far we’ve seen protocols that use non-orthogonal basis and states to exchange keys. However, there are other ways of achieving the same goal. The three-stage protocol is one of them.\n",
    "\n",
    "The Three-stage protocol is based on one of the oldest ideas in secure exchange of messages and only assumes the availability of an authenticated channel. \n",
    "\n",
    "Consider Alice wants to secretly send a message to Bob. Both Alice and Bob have locks that are unique and only the other person recognizes as belonging to Alice/Bob. Now the secret message can be put into a strong box and sent to Bob using double lock cryptography. The process is straightforward and shown below. \n",
    "\n",
    "![nanomod22-fig1.png](images/nanomod22-fig1.png)\n",
    "\n",
    "*Note: There was no key exchange necessary in the above protocol.*"
   ]
  },
  {
   "cell_type": "markdown",
   "id": "1a556616",
   "metadata": {
    "cell_details": {
     "cell_ID": "m22-Introduction-EntanglementQKD",
     "cell_alternates": [],
     "cell_concepts": [
      "Introduction to Entanglement based QKD"
     ],
     "cell_estimated_time": "1",
     "cell_interactive": "false",
     "cell_outcomes": [],
     "cell_prereqs": [],
     "cell_title": "Introduction",
     "cell_type": [
      "text"
     ],
     "module_outcomes": [
      "Students will understand the concept of double lock cryptography.",
      "Students will know the working of three-stage quantum key distribution protocol.",
      "Students will be able to apply the concepts of orthogonality of basis, measurement and indistinguishability of non-orthogonal states.",
      "Students will apply the principle of quantum entanglement and Bell's inequality to construct a quantum key distribution protocol.",
      "Students will be able to use Bell's inequality to check for eavesdropping."
     ],
     "module_prereqs": [
      "Linear Algebra",
      "Complex Numbers",
      "Introduction to Programming",
      "Python Basics",
      "Complex Vector Spaces"
     ],
     "module_title": [
      "The Three-Stage Quantum Key Distribution Protocol & Entanglement based QKD"
     ]
    }
   },
   "source": [
    "## 22.2 Introduction\n",
    "\n",
    "Another interesting turn in the field of quantum cryptography was the development of QKD schemes based on quantum \n",
    "entanglement. In fact, quantum entanglement now forms the basis of new types of schemes that are coming up called\n",
    "measurement devices independent QKD.\n",
    "\n",
    "Before we describe Ekert protocol (popularly called E91), the first QKD protocol using quantum entanglement,\n",
    "we will discuss a simpler version of the protocol."
   ]
  },
  {
   "cell_type": "markdown",
   "id": "14d3f945",
   "metadata": {
    "cell_details": {
     "cell_ID": "m22-3stageQkd",
     "cell_alternates": [],
     "cell_concepts": [
      "3 stage QKD protocol"
     ],
     "cell_estimated_time": "1",
     "cell_interactive": "false",
     "cell_outcomes": [],
     "cell_prereqs": [
      "m22-Background"
     ],
     "cell_title": "the 3-Stage QKD Protocol",
     "cell_type": [
      "text"
     ],
     "module_outcomes": [
      "Students will understand the concept of double lock cryptography.",
      "Students will know the working of three-stage quantum key distribution protocol.",
      "Students will be able to apply the concepts of orthogonality of basis, measurement and indistinguishability of non-orthogonal states.",
      "Students will apply the principle of quantum entanglement and Bell's inequality to construct a quantum key distribution protocol.",
      "Students will be able to use Bell's inequality to check for eavesdropping."
     ],
     "module_prereqs": [
      "Linear Algebra",
      "Complex Numbers",
      "Introduction to Programming",
      "Python Basics",
      "Complex Vector Spaces"
     ],
     "module_title": [
      "The Three-Stage Quantum Key Distribution Protocol & Entanglement based QKD"
     ]
    },
    "slideshow": {
     "slide_type": "slide"
    }
   },
   "source": [
    "## The 3-Stage QKD Protocol\n",
    "\n",
    "The three stage protocol is a simple, yet powerful, quantum analogy of the double lock cryptography.\n",
    "\n",
    "Assume Alice wants to send an arbitrary state $\\rvert+\\rangle$ to Bob.\n",
    "\n",
    "Both Alice and Bob are connected via an authenticated channel and have secret rotation transformations $U_a$ and $U_b$ such that $U_a U_b$ = $U_b U_a$\n",
    "\n",
    "$U_\\theta$ may be of the form,\n",
    "\n",
    "$U_\\theta =\\begin{bmatrix}cos \\theta & -sin \\theta \\\\sin\\theta& cos\\theta& \\end{bmatrix}$ \n"
   ]
  },
  {
   "cell_type": "markdown",
   "id": "318df25e",
   "metadata": {
    "cell_details": {
     "cell_ID": "m22-EPRbasedQkd",
     "cell_alternates": [],
     "cell_concepts": [
      "EPR based QKD Protocol"
     ],
     "cell_estimated_time": "1",
     "cell_interactive": "false",
     "cell_outcomes": [],
     "cell_prereqs": [
      "m22-Introduction-EntanglementQKD"
     ],
     "cell_title": "EPR based QKD Protocol",
     "cell_type": [
      "text"
     ],
     "module_outcomes": [
      "Students will understand the concept of double lock cryptography.",
      "Students will know the working of three-stage quantum key distribution protocol.",
      "Students will be able to apply the concepts of orthogonality of basis, measurement and indistinguishability of non-orthogonal states.",
      "Students will apply the principle of quantum entanglement and Bell's inequality to construct a quantum key distribution protocol.",
      "Students will be able to use Bell's inequality to check for eavesdropping."
     ],
     "module_prereqs": [
      "Linear Algebra",
      "Complex Numbers",
      "Introduction to Programming",
      "Python Basics",
      "Complex Vector Spaces"
     ],
     "module_title": [
      "The Three-Stage Quantum Key Distribution Protocol & Entanglement based QKD"
     ]
    }
   },
   "source": [
    "## 22.3 EPR Based QKD Protocol\n",
    "\n",
    "Consider a Bell pair $\\frac{\\rvert00\\rangle + \\rvert11\\rangle}{\\sqrt{2}}$. We can also work with other Bell pairs for example $\\frac{\\rvert01\\rangle + \\rvert10\\rangle}{\\sqrt{2}}$. However, using $\\frac{\\rvert01\\rangle + \\rvert10\\rangle}{\\sqrt{2}}$ will result in Alice and Bob having opposite bit strings. \n",
    "For simplicity, we can assume that these Bell pairs were created sometime in the past and now Alice and Bob each have one qubit out of it. Alternatively, we can assume that Alice and Bob are provided a qubit out of the Bell pair by some third-party source who generates such pairs. \n",
    "\n",
    "Suppose Alice and Bob want to exchange a secret key. When they are ready they will measure their respective qubits. The order of which the measurements take place (Alice measures first or Bob measures first) does not matter. \n",
    "\n",
    "To prevent a third party from obtaining the same random string Alice and Bob must measure their qubits randomly in one of the two random (non-orthogonal) bases . "
   ]
  },
  {
   "cell_type": "markdown",
   "id": "8ac60a8c",
   "metadata": {
    "cell_details": {
     "cell_ID": "m22-3stageQkd2",
     "cell_alternates": [],
     "cell_concepts": [
      "3 Stage Qkd Protocol"
     ],
     "cell_estimated_time": "1",
     "cell_interactive": "false",
     "cell_outcomes": [],
     "cell_prereqs": [
      "m22-Background",
      "m22-3stageQkd"
     ],
     "cell_title": "The 3-Stage QKD protocol",
     "cell_type": [
      "text"
     ],
     "module_outcomes": [
      "Students will understand the concept of double lock cryptography.",
      "Students will know the working of three-stage quantum key distribution protocol.",
      "Students will be able to apply the concepts of orthogonality of basis, measurement and indistinguishability of non-orthogonal states.",
      "Students will apply the principle of quantum entanglement and Bell's inequality to construct a quantum key distribution protocol.",
      "Students will be able to use Bell's inequality to check for eavesdropping."
     ],
     "module_prereqs": [
      "Linear Algebra",
      "Complex Numbers",
      "Introduction to Programming",
      "Python Basics",
      "Complex Vector Spaces"
     ],
     "module_title": [
      "The Three-Stage Quantum Key Distribution Protocol & Entanglement based QKD"
     ]
    },
    "slideshow": {
     "slide_type": "slide"
    }
   },
   "source": [
    "The protocol proceeds as follows:\n",
    "\n",
    "1. Alice applies the secret transformation $U_a$ to $\\rvert+\\rangle$ and then sends Bob $U_a(\\rvert+\\rangle)$\n",
    "\n",
    "2. Bob applies $U_b$ and sends to Alice $U_b U_a(\\rvert+\\rangle)$\n",
    "\n",
    "3. Alice applies $U_a^\\dagger$ and returns $U_b(\\rvert+\\rangle)$ to Bob.\n",
    "\n",
    "4. Bob applies $U_b^\\dagger$ and retrieves $\\rvert+\\rangle$. \n",
    "\n",
    "State $\\rvert+\\rangle$ may be our encryption key or data or output of a quantum algorithm.\n",
    "\n",
    "\n",
    "\n"
   ]
  },
  {
   "cell_type": "markdown",
   "id": "94fa87b2",
   "metadata": {
    "cell_details": {
     "cell_ID": "m22-E91-Protocol",
     "cell_alternates": [],
     "cell_concepts": [
      "E91 Protocol"
     ],
     "cell_estimated_time": "1",
     "cell_interactive": "false",
     "cell_outcomes": [],
     "cell_prereqs": [
      "m22-Introduction-EntanglementQKD",
      "m22-EPRbasedQkd"
     ],
     "cell_title": "E91 Protocol",
     "cell_type": [
      "text"
     ],
     "module_outcomes": [
      "Students will understand the concept of double lock cryptography.",
      "Students will know the working of three-stage quantum key distribution protocol.",
      "Students will be able to apply the concepts of orthogonality of basis, measurement and indistinguishability of non-orthogonal states.",
      "Students will apply the principle of quantum entanglement and Bell's inequality to construct a quantum key distribution protocol.",
      "Students will be able to use Bell's inequality to check for eavesdropping."
     ],
     "module_prereqs": [
      "Linear Algebra",
      "Complex Numbers",
      "Introduction to Programming",
      "Python Basics",
      "Complex Vector Spaces"
     ],
     "module_title": [
      "The Three-Stage Quantum Key Distribution Protocol & Entanglement based QKD"
     ]
    }
   },
   "source": [
    "## 22.4 The E91 Protocol\n",
    "\n",
    "Ekert’s 1991 protocol is almost the same as the EPR protocol from the previous section but differs in two steps. \n",
    "\n",
    "First, the measurement is done in three different bases (instead of just two).\n",
    "\n",
    "Second, the qubits that both parties measure in the same basis are saved as possible keys, the qubits that were measured in different basis are used to detect any eavesdropper, or decoherence of the entangled qubits by checking if they violate Bell's inequality (CHSH game) or not.\n",
    "\n",
    "Of the qubits are independent qubits (not entangled) they will satisfy Bell's inequality. "
   ]
  },
  {
   "cell_type": "markdown",
   "id": "47f94ba9",
   "metadata": {
    "cell_details": {
     "cell_ID": "m22-3stageQkdFlow",
     "cell_alternates": [],
     "cell_concepts": [
      "3Stage Protocol Flow"
     ],
     "cell_estimated_time": "1",
     "cell_interactive": "false",
     "cell_outcomes": [],
     "cell_prereqs": [
      "m22-Background",
      "m22-3stageQkd",
      "m22-3stageQkd2"
     ],
     "cell_title": "The Protocol Flow",
     "cell_type": [
      "text"
     ],
     "module_outcomes": [
      "Students will understand the concept of double lock cryptography.",
      "Students will know the working of three-stage quantum key distribution protocol.",
      "Students will be able to apply the concepts of orthogonality of basis, measurement and indistinguishability of non-orthogonal states.",
      "Students will apply the principle of quantum entanglement and Bell's inequality to construct a quantum key distribution protocol.",
      "Students will be able to use Bell's inequality to check for eavesdropping."
     ],
     "module_prereqs": [
      "Linear Algebra",
      "Complex Numbers",
      "Introduction to Programming",
      "Python Basics",
      "Complex Vector Spaces"
     ],
     "module_title": [
      "The Three-Stage Quantum Key Distribution Protocol & Entanglement based QKD"
     ]
    },
    "slideshow": {
     "slide_type": "slide"
    }
   },
   "source": [
    "## The Protocol Flow\n",
    "\n",
    "![nanomod22-fig2.png](images/nanomod22-fig2.png)\n",
    "\n",
    "Under single qubit implementation the protocol provides perfect secrecy. The protocol is also resistant to multi-photon implementations. \n"
   ]
  },
  {
   "cell_type": "code",
   "execution_count": 5,
   "id": "c71c90b8",
   "metadata": {
    "cell_details": {
     "cell_ID": "m22-SimulationExercises",
     "cell_alternates": [],
     "cell_concepts": [
      "EPR based QKD Protocol Research Suggestions"
     ],
     "cell_estimated_time": "1",
     "cell_interactive": "false",
     "cell_outcomes": [],
     "cell_prereqs": [
      "m22-3stageQkdFlow",
      "m22-E91-Protocol"
     ],
     "cell_title": "Simulator Exercises",
     "cell_type": [
      "text"
     ],
     "module_outcomes": [
      "Students will understand the concept of double lock cryptography.",
      "Students will know the working of three-stage quantum key distribution protocol.",
      "Students will be able to apply the concepts of orthogonality of basis, measurement and indistinguishability of non-orthogonal states.",
      "Students will apply the principle of quantum entanglement and Bell's inequality to construct a quantum key distribution protocol.",
      "Students will be able to use Bell's inequality to check for eavesdropping."
     ],
     "module_prereqs": [
      "Linear Algebra",
      "Complex Numbers",
      "Introduction to Programming",
      "Python Basics",
      "Complex Vector Spaces"
     ],
     "module_title": [
      "The Three-Stage Quantum Key Distribution Protocol & Entanglement based QKD"
     ]
    }
   },
   "outputs": [
    {
     "data": {
      "text/plain": [
       "<__main__.Home at 0x20f0836b9e0>"
      ]
     },
     "execution_count": 5,
     "metadata": {},
     "output_type": "execute_result"
    }
   ],
   "source": [
    "%matplotlib inline\n",
    "%run SimulatorExercises/src/Home\n",
    "Home()"
   ]
  },
  {
   "cell_type": "code",
   "execution_count": null,
   "id": "a2b10f3d-b1bd-4f1c-ba95-1b1ebdb06f0b",
   "metadata": {},
   "outputs": [],
   "source": []
  }
 ],
 "metadata": {
  "kernelspec": {
   "display_name": "Python 3 (ipykernel)",
   "language": "python",
   "name": "python3"
  },
  "language_info": {
   "codemirror_mode": {
    "name": "ipython",
    "version": 3
   },
   "file_extension": ".py",
   "mimetype": "text/x-python",
   "name": "python",
   "nbconvert_exporter": "python",
   "pygments_lexer": "ipython3",
   "version": "3.12.2"
  }
 },
 "nbformat": 4,
 "nbformat_minor": 5
}
